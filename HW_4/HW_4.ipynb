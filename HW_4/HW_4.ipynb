{
 "cells": [
  {
   "cell_type": "code",
   "execution_count": 12,
   "id": "1c227c12",
   "metadata": {},
   "outputs": [],
   "source": [
    "def IsAnagram(s,t):\n",
    "    s_list = list(s)\n",
    "    t_list = list(t)\n",
    "    \n",
    "    try:\n",
    "        for i in s_list:\n",
    "            t_list.remove(i)\n",
    "\n",
    "        if t_list==[]:\n",
    "            Result = True\n",
    "        else:\n",
    "            Result = False\n",
    "    except ValueError:\n",
    "        Result = False        \n",
    "    return Result"
   ]
  },
  {
   "cell_type": "code",
   "execution_count": 17,
   "id": "ad1f878a",
   "metadata": {},
   "outputs": [
    {
     "data": {
      "text/plain": [
       "False"
      ]
     },
     "execution_count": 17,
     "metadata": {},
     "output_type": "execute_result"
    }
   ],
   "source": [
    "IsAnagram('listen','liten')"
   ]
  },
  {
   "cell_type": "code",
   "execution_count": 18,
   "id": "b9eff139",
   "metadata": {},
   "outputs": [
    {
     "data": {
      "text/plain": [
       "True"
      ]
     },
     "execution_count": 18,
     "metadata": {},
     "output_type": "execute_result"
    }
   ],
   "source": [
    "IsAnagram('listen','slient')"
   ]
  },
  {
   "cell_type": "code",
   "execution_count": 26,
   "id": "3d01afcb",
   "metadata": {},
   "outputs": [],
   "source": [
    "def MySqrt(x):\n",
    "    for i in range(x+1):\n",
    "        \n",
    "        if i*i == x:\n",
    "            result = i\n",
    "        if i*i > x:\n",
    "            result = i-1\n",
    "            break    \n",
    "    return result"
   ]
  },
  {
   "cell_type": "code",
   "execution_count": 32,
   "id": "1a38998d",
   "metadata": {},
   "outputs": [
    {
     "data": {
      "text/plain": [
       "1"
      ]
     },
     "execution_count": 32,
     "metadata": {},
     "output_type": "execute_result"
    }
   ],
   "source": [
    "MySqrt(1)"
   ]
  },
  {
   "cell_type": "code",
   "execution_count": 33,
   "id": "683b2bb7",
   "metadata": {},
   "outputs": [
    {
     "data": {
      "text/plain": [
       "2"
      ]
     },
     "execution_count": 33,
     "metadata": {},
     "output_type": "execute_result"
    }
   ],
   "source": [
    "MySqrt(8)"
   ]
  }
 ],
 "metadata": {
  "kernelspec": {
   "display_name": "Python 3 (ipykernel)",
   "language": "python",
   "name": "python3"
  },
  "language_info": {
   "codemirror_mode": {
    "name": "ipython",
    "version": 3
   },
   "file_extension": ".py",
   "mimetype": "text/x-python",
   "name": "python",
   "nbconvert_exporter": "python",
   "pygments_lexer": "ipython3",
   "version": "3.9.7"
  }
 },
 "nbformat": 4,
 "nbformat_minor": 5
}
