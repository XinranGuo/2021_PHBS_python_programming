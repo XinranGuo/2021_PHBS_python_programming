{
 "cells": [
  {
   "cell_type": "markdown",
   "metadata": {},
   "source": [
    "### Homework\n",
    "### Extract the first page of all pdfs in the \"mypdfs \" folder and merge them into one pdf file named \"new.pdf\".\n",
    "#### Name: XinranGuo 国欣然\n",
    "#### StudentID: 2001212337\n"
   ]
  },
  {
   "cell_type": "code",
   "execution_count": 4,
   "metadata": {},
   "outputs": [
    {
     "name": "stdout",
     "output_type": "stream",
     "text": [
      "[WindowsPath('mypdfs/08913994.pdf'), WindowsPath('mypdfs/1905.05406.pdf'), WindowsPath('mypdfs/1908.02426.pdf'), WindowsPath('mypdfs/2103.07579.pdf'), WindowsPath('mypdfs/2106.13112.pdf'), WindowsPath('mypdfs/2109.05673.pdf'), WindowsPath('mypdfs/8120-theoretical-linear-convergence-of-unfolded-ista-and-its-practical-weights-and-thresholds.pdf'), WindowsPath('mypdfs/cvpr2020welch.pdf'), WindowsPath('mypdfs/NeurIPS-2020-fast-fourier-convolution-Paper.pdf')]\n"
     ]
    }
   ],
   "source": [
    "# get all the pdf names in myfiles\n",
    "\n",
    "from pathlib import Path\n",
    "\n",
    "path = Path(r\"mypdfs\")\n",
    "pdf_files = [p for p in path.glob(\"*.pdf\")]\n",
    "print(pdf_files)"
   ]
  },
  {
   "cell_type": "code",
   "execution_count": 5,
   "metadata": {},
   "outputs": [
    {
     "name": "stdout",
     "output_type": "stream",
     "text": [
      "['08913994_new.pdf', '1905.05406_new.pdf', '1908.02426_new.pdf', '2103.07579_new.pdf', '2106.13112_new.pdf', '2109.05673_new.pdf', '8120-theoretical-linear-convergence-of-unfolded-ista-and-its-practical-weights-and-thresholds_new.pdf', 'cvpr2020welch_new.pdf', 'NeurIPS-2020-fast-fourier-convolution-Paper_new.pdf']\n"
     ]
    }
   ],
   "source": [
    "# merge them into one pdf\n",
    "from PyPDF4 import PdfFileReader, PdfFileMerger, PdfFileWriter\n",
    "newfilelist = []\n",
    "for file in pdf_files:\n",
    "    with open(file, \"rb\") as pdf_file:\n",
    "        pdf = PdfFileReader(pdf_file)\n",
    "        page = pdf.getPage(0)\n",
    "    \n",
    "        writer = PdfFileWriter()\n",
    "        writer.addPage(page)\n",
    "\n",
    "        newfile = file.name[:-4]+'_new.pdf'\n",
    "        newfilelist.append(newfile)\n",
    "        with open(newfile, \"wb\") as output:\n",
    "             writer.write(output)\n",
    "print(newfilelist)"
   ]
  },
  {
   "cell_type": "code",
   "execution_count": 6,
   "metadata": {},
   "outputs": [],
   "source": [
    "merger = PdfFileMerger()\n",
    "\n",
    "for file_name in newfilelist:\n",
    "    merger.append(file_name)\n",
    "merger.write(\"new.pdf\")"
   ]
  }
 ],
 "metadata": {
  "interpreter": {
   "hash": "a1fd8df5d449c77885c36ee13fb077ca8b1254551d08c28de248d875df95e9cb"
  },
  "kernelspec": {
   "display_name": "Python 3.9.7 64-bit ('base': conda)",
   "language": "python",
   "name": "python3"
  },
  "language_info": {
   "codemirror_mode": {
    "name": "ipython",
    "version": 3
   },
   "file_extension": ".py",
   "mimetype": "text/x-python",
   "name": "python",
   "nbconvert_exporter": "python",
   "pygments_lexer": "ipython3",
   "version": "3.9.7"
  },
  "orig_nbformat": 4
 },
 "nbformat": 4,
 "nbformat_minor": 2
}
