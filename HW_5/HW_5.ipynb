{
 "cells": [
  {
   "cell_type": "code",
   "execution_count": 1,
   "id": "6087f11f",
   "metadata": {},
   "outputs": [],
   "source": [
    "def uniquePaths(m,n):\n",
    "    if n==1:\n",
    "        return 1\n",
    "    if m==1:\n",
    "        return 1\n",
    "    else:\n",
    "        return GridWalk(m-1,n)+GridWalk(m,n-1)"
   ]
  },
  {
   "cell_type": "code",
   "execution_count": 7,
   "id": "b1e8ed92",
   "metadata": {},
   "outputs": [
    {
     "name": "stdout",
     "output_type": "stream",
     "text": [
      "1\n"
     ]
    }
   ],
   "source": [
    "print(uniquePaths(10,1))"
   ]
  },
  {
   "cell_type": "code",
   "execution_count": 54,
   "id": "84c47010",
   "metadata": {},
   "outputs": [],
   "source": [
    "import numpy as np\n",
    "\n",
    "def lengthOfLIS(nums):\n",
    "    maxnum = 1\n",
    "    nums = np.array(nums)\n",
    "    if len(nums)==1:\n",
    "        return 1\n",
    "    if len(nums)==0:\n",
    "        return 0\n",
    "    else:\n",
    "        for i in range(len(nums)):\n",
    "            change_nums = nums[i:]\n",
    "            change_nums = change_nums[change_nums > nums[i]]\n",
    "            num = 1+ lengthOfLIS(change_nums)\n",
    "            if num > maxnum:\n",
    "                maxnum = num\n",
    "    return maxnum\n",
    "        "
   ]
  },
  {
   "cell_type": "code",
   "execution_count": 55,
   "id": "d5816ae7",
   "metadata": {
    "scrolled": true
   },
   "outputs": [
    {
     "name": "stdout",
     "output_type": "stream",
     "text": [
      "4\n"
     ]
    }
   ],
   "source": [
    "nums = [0,1,0,3,2,3]\n",
    "print(lengthOfLIS(nums))"
   ]
  },
  {
   "cell_type": "code",
   "execution_count": 59,
   "id": "e1a89e76",
   "metadata": {
    "scrolled": true
   },
   "outputs": [
    {
     "name": "stdout",
     "output_type": "stream",
     "text": [
      "4\n"
     ]
    }
   ],
   "source": [
    "nums=[10,9,2,5,3,7,101,18]\n",
    "print(lengthOfLIS(nums))"
   ]
  }
 ],
 "metadata": {
  "kernelspec": {
   "display_name": "Python 3 (ipykernel)",
   "language": "python",
   "name": "python3"
  },
  "language_info": {
   "codemirror_mode": {
    "name": "ipython",
    "version": 3
   },
   "file_extension": ".py",
   "mimetype": "text/x-python",
   "name": "python",
   "nbconvert_exporter": "python",
   "pygments_lexer": "ipython3",
   "version": "3.9.7"
  }
 },
 "nbformat": 4,
 "nbformat_minor": 5
}
