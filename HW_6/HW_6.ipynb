{
 "cells": [
  {
   "cell_type": "markdown",
   "id": "86f61757",
   "metadata": {},
   "source": [
    "# Homework 6\n",
    "\n",
    "## Name: XinranGuo 国欣然\n",
    "## Student ID: 2001212337\n"
   ]
  },
  {
   "cell_type": "code",
   "execution_count": 1,
   "id": "d029d677",
   "metadata": {
    "scrolled": true
   },
   "outputs": [
    {
     "name": "stdout",
     "output_type": "stream",
     "text": [
      "Requirement already satisfied: xlwt in d:\\app\\anaconda3\\lib\\site-packages (1.3.0)\n"
     ]
    },
    {
     "name": "stderr",
     "output_type": "stream",
     "text": [
      "WARNING: Ignoring invalid distribution -tatsmodels (d:\\app\\anaconda3\\lib\\site-packages)\n",
      "WARNING: Ignoring invalid distribution -tatsmodels (d:\\app\\anaconda3\\lib\\site-packages)\n",
      "WARNING: Ignoring invalid distribution -tatsmodels (d:\\app\\anaconda3\\lib\\site-packages)\n",
      "WARNING: Ignoring invalid distribution -tatsmodels (d:\\app\\anaconda3\\lib\\site-packages)\n",
      "WARNING: Ignoring invalid distribution -tatsmodels (d:\\app\\anaconda3\\lib\\site-packages)\n",
      "WARNING: Ignoring invalid distribution -tatsmodels (d:\\app\\anaconda3\\lib\\site-packages)\n"
     ]
    }
   ],
   "source": [
    "!pip install xlwt"
   ]
  },
  {
   "cell_type": "code",
   "execution_count": 3,
   "id": "e6d1742a",
   "metadata": {},
   "outputs": [
    {
     "name": "stdout",
     "output_type": "stream",
     "text": [
      "Requirement already satisfied: xlrd in d:\\app\\anaconda3\\lib\\site-packages (2.0.1)\n"
     ]
    },
    {
     "name": "stderr",
     "output_type": "stream",
     "text": [
      "WARNING: Ignoring invalid distribution -tatsmodels (d:\\app\\anaconda3\\lib\\site-packages)\n",
      "WARNING: Ignoring invalid distribution -tatsmodels (d:\\app\\anaconda3\\lib\\site-packages)\n",
      "WARNING: Ignoring invalid distribution -tatsmodels (d:\\app\\anaconda3\\lib\\site-packages)\n",
      "WARNING: Ignoring invalid distribution -tatsmodels (d:\\app\\anaconda3\\lib\\site-packages)\n",
      "WARNING: Ignoring invalid distribution -tatsmodels (d:\\app\\anaconda3\\lib\\site-packages)\n",
      "WARNING: Ignoring invalid distribution -tatsmodels (d:\\app\\anaconda3\\lib\\site-packages)\n"
     ]
    }
   ],
   "source": [
    "!pip install xlrd"
   ]
  },
  {
   "cell_type": "code",
   "execution_count": 58,
   "id": "8d273631",
   "metadata": {},
   "outputs": [],
   "source": [
    "# import the related repository\n",
    "import xlrd\n",
    "import xlwt\n",
    "import re\n",
    "\n",
    "# prepare the worksheet\n",
    "workbook = xlwt.Workbook(encoding = 'ascii')\n",
    "worksheet = workbook.add_sheet('NewSheet')\n",
    "\n",
    "# download the data\n",
    "data = xlrd.open_workbook('D:/github代码/2021_PHBS_python_programming_1/HW_6/H1.xls')\n",
    "sheet1 = data.sheet_by_index(0)\n",
    "\n",
    "# process the data and write out\n",
    "rows, cols = sheet1.nrows, sheet1.ncols\n",
    "reg = \"https.*\"\n",
    "\n",
    "for i in range(1,rows):\n",
    "    link = sheet1.cell_value(i,cols-1)\n",
    "    if re.search(\"http\", link) == None:  \n",
    "        link = sheet1.hyperlink_map.get((i,cols-1)).url_or_path\n",
    "    else:\n",
    "        link = re.search(reg, link).group()\n",
    "    worksheet.write(i-1,0, label = link)\n",
    "workbook.save('D:/github代码/2021_PHBS_python_programming_1/HW_6/New_H1.xls')"
   ]
  },
  {
   "cell_type": "code",
   "execution_count": 56,
   "id": "ea0be8b2",
   "metadata": {},
   "outputs": [
    {
     "name": "stdout",
     "output_type": "stream",
     "text": [
      "https://docs.qq.com/pdf/DWE1lbUpycXFZYkxV\n"
     ]
    }
   ],
   "source": [
    "link = \"【腾讯文档】刘璨-2001112043.pdf https://docs.qq.com/pdf/DWE1lbUpycXFZYkxV\"\n",
    "    \n",
    "link = re.search(reg, link).group()\n",
    "print(link)"
   ]
  },
  {
   "cell_type": "code",
   "execution_count": 60,
   "id": "90b6dc4b",
   "metadata": {},
   "outputs": [],
   "source": [
    "# open the url file\n",
    "import webbrowser\n",
    "\n",
    "data_open = xlrd.open_workbook('D:/github代码/2021_PHBS_python_programming_1/HW_6/New_H1.xls')\n",
    "sheet1_open = data_open.sheet_by_index(0)\n",
    "\n",
    "rows = sheet1_open.nrows\n",
    "for i in range(0,rows):\n",
    "    webbrowser.open_new(sheet1_open.cell_value(i,0))"
   ]
  }
 ],
 "metadata": {
  "kernelspec": {
   "display_name": "Python 3 (ipykernel)",
   "language": "python",
   "name": "python3"
  },
  "language_info": {
   "codemirror_mode": {
    "name": "ipython",
    "version": 3
   },
   "file_extension": ".py",
   "mimetype": "text/x-python",
   "name": "python",
   "nbconvert_exporter": "python",
   "pygments_lexer": "ipython3",
   "version": "3.9.7"
  }
 },
 "nbformat": 4,
 "nbformat_minor": 5
}
