{
 "cells": [
  {
   "cell_type": "code",
   "execution_count": 10,
   "id": "5a35b7c1",
   "metadata": {},
   "outputs": [
    {
     "name": "stdout",
     "output_type": "stream",
     "text": [
      "1*1=1\n",
      "\n",
      "1*2=22*2=4\n",
      "\n",
      "1*3=32*3=63*3=9\n",
      "\n",
      "1*4=42*4=83*4=124*4=16\n",
      "\n",
      "1*5=52*5=103*5=154*5=205*5=25\n",
      "\n",
      "1*6=62*6=123*6=184*6=245*6=306*6=36\n",
      "\n",
      "1*7=72*7=143*7=214*7=285*7=356*7=427*7=49\n",
      "\n",
      "1*8=82*8=163*8=244*8=325*8=406*8=487*8=568*8=64\n",
      "\n",
      "1*9=92*9=183*9=274*9=365*9=456*9=547*9=638*9=729*9=81\n",
      "\n"
     ]
    }
   ],
   "source": [
    "result=[]\n",
    "for i in range(1,10):\n",
    "    for j in range(1,i+1):\n",
    "        print(f\"{j}*{i}={i*j}\",end='')\n",
    "    print('\\n')\n",
    "        \n",
    "        "
   ]
  }
 ],
 "metadata": {
  "kernelspec": {
   "display_name": "Python 3 (ipykernel)",
   "language": "python",
   "name": "python3"
  },
  "language_info": {
   "codemirror_mode": {
    "name": "ipython",
    "version": 3
   },
   "file_extension": ".py",
   "mimetype": "text/x-python",
   "name": "python",
   "nbconvert_exporter": "python",
   "pygments_lexer": "ipython3",
   "version": "3.9.7"
  }
 },
 "nbformat": 4,
 "nbformat_minor": 5
}
