{
 "cells": [
  {
   "cell_type": "code",
   "execution_count": 22,
   "metadata": {},
   "outputs": [],
   "source": [
    "import requests\n",
    "import random\n",
    "from hashlib import md5\n",
    "import tkinter\n",
    "\n",
    "def translate_api_entozh(input_text):\n",
    "    # Set your own appid/appkey.\n",
    "    appid = '20211214001028718'\n",
    "    appkey = 'QzIjVNNzjwtQ1ukg3Slu'\n",
    "    def make_md5(s, encoding='utf-8'):\n",
    "        return md5(s.encode(encoding)).hexdigest()\n",
    "    # For list of language codes, please refer to `https://api.fanyi.baidu.com/doc/21`\n",
    "    from_lang = 'en'\n",
    "    to_lang = 'zh'\n",
    "    # from_lang = 'zh'\n",
    "    # to_lang = 'en'\n",
    "    endpoint = 'http://api.fanyi.baidu.com'\n",
    "    path = '/api/trans/vip/translate'\n",
    "    url = endpoint + path\n",
    "    # query = 'Hello World! This is 1st paragraph.\\nThis is 2nd paragraph.'\n",
    "    query = input_text\n",
    "    # Generate salt and sign\n",
    "    salt = random.randint(32768, 65536)\n",
    "    sign = make_md5(appid + query + str(salt) + appkey)\n",
    "    # Build request\n",
    "    headers = {'Content-Type': 'application/x-www-form-urlencoded'}\n",
    "    payload = {'appid': appid, 'q': query, 'from': from_lang, 'to': to_lang, 'salt': salt, 'sign': sign}\n",
    "    # Send request\n",
    "    r = requests.post(url, params=payload, headers=headers)\n",
    "    result = r.json()\n",
    "    return result['trans_result'][0]['dst']\n",
    "\n",
    "\n",
    "def translate_api_zhtoen(input_text):\n",
    "    # Set your own appid/appkey.\n",
    "    appid = '20211214001028718'\n",
    "    appkey = 'QzIjVNNzjwtQ1ukg3Slu'\n",
    "    def make_md5(s, encoding='utf-8'):\n",
    "        return md5(s.encode(encoding)).hexdigest()\n",
    "    # For list of language codes, please refer to `https://api.fanyi.baidu.com/doc/21`\n",
    "    # from_lang = 'en'\n",
    "    # to_lang = 'zh'\n",
    "    from_lang = 'zh'\n",
    "    to_lang = 'en'\n",
    "    endpoint = 'http://api.fanyi.baidu.com'\n",
    "    path = '/api/trans/vip/translate'\n",
    "    url = endpoint + path\n",
    "    # query = 'Hello World! This is 1st paragraph.\\nThis is 2nd paragraph.'\n",
    "    query = input_text\n",
    "    # Generate salt and sign\n",
    "    salt = random.randint(32768, 65536)\n",
    "    sign = make_md5(appid + query + str(salt) + appkey)\n",
    "    # Build request\n",
    "    headers = {'Content-Type': 'application/x-www-form-urlencoded'}\n",
    "    payload = {'appid': appid, 'q': query, 'from': from_lang, 'to': to_lang, 'salt': salt, 'sign': sign}\n",
    "    # Send request\n",
    "    r = requests.post(url, params=payload, headers=headers)\n",
    "    result = r.json()\n",
    "    return result['trans_result'][0]['dst']"
   ]
  },
  {
   "cell_type": "code",
   "execution_count": 35,
   "metadata": {},
   "outputs": [],
   "source": [
    "import tkinter\n",
    "\n",
    "window = tkinter.Tk()\n",
    "window.title('XinranGuo_2001212337 Translator')\n",
    "window.geometry('1000x500')\n",
    "\n",
    "# label definition\n",
    "l = tkinter.Label(window,\n",
    "    text = 'CN to EN', \n",
    "    bg = 'white',          \n",
    "    font = ('Arial', 12), \n",
    "    width = 15, height=2  \n",
    "    )\n",
    "l.place(x=50, y=10) \n",
    "\n",
    "\n",
    "l = tkinter.Label(window,\n",
    "    text = 'EN to CN', \n",
    "    bg = 'white',          \n",
    "    font = ('Arial', 12), \n",
    "    width = 15, height=2  \n",
    "    )\n",
    "l.place(x=550, y=10)\n",
    "\n",
    "l = tkinter.Label(window,\n",
    "    text = 'Translation Results', \n",
    "    bg = 'white',          \n",
    "    font = ('Arial', 12), \n",
    "    width = 15, height=2  \n",
    "    )\n",
    "l.place(x=300, y=260)\n",
    "\n",
    "\n",
    "# text box\n",
    "\n",
    "## cn to en box\n",
    "e1 = tkinter.Text(window)\n",
    "e1.place(x=50, y=50, width=400, height=100)\n",
    "\n",
    "\n",
    "e2 = tkinter.Text(window)\n",
    "e2.place(x=550, y=50, width=400, height=100)\n",
    "\n",
    "\n",
    "e3 = tkinter.Text(window)\n",
    "e3.place(x=300, y=300, width=400, height=100)\n",
    "\n",
    "\n",
    "\n",
    "# button function\n",
    "def translate_zhtoen():\n",
    "    input1 = e1.get(1.0, \"end\")\n",
    "    e3.delete(1.0, 'end')\n",
    "    e2.delete(1.0, 'end')\n",
    "    trans_result = translate_api_zhtoen(input1)\n",
    "    e3.insert('insert', trans_result)\n",
    "\n",
    "\n",
    "def translate_entozh():\n",
    "    input1 = e2.get(1.0, \"end\")\n",
    "    e3.delete(1.0, 'end')\n",
    "    e1.delete(1.0, 'end')\n",
    "    trans_result = translate_api_entozh(input1)\n",
    "    e3.insert('insert', trans_result)\n",
    "\n",
    "\n",
    "\n",
    "\n",
    "\n",
    "b = tkinter.Button(window,\n",
    "    text = 'Translate Chinese', \n",
    "    bg = 'white',          \n",
    "    font = ('Arial', 12), \n",
    "    width = 15, height=2,\n",
    "    command = translate_zhtoen\n",
    "    )\n",
    "b.place(x=170, y=150)\n",
    "\n",
    "\n",
    "b = tkinter.Button(window,\n",
    "    text = 'Translate English', \n",
    "    bg = 'white',          \n",
    "    font = ('Arial', 12), \n",
    "    width = 15, height=2,\n",
    "    command = translate_entozh\n",
    "    )\n",
    "b.place(x=690, y=150)\n",
    "\n",
    "\n",
    "\n",
    "b2 = tkinter.Button(window, text='Quit', width=10, height=2, font=('Arial', 12), command=window.quit)\n",
    "b2.place(x=450, y=400)\n",
    "window.mainloop()"
   ]
  },
  {
   "cell_type": "code",
   "execution_count": 37,
   "metadata": {},
   "outputs": [
    {
     "name": "stdout",
     "output_type": "stream",
     "text": [
      "Requirement already satisfied: pyinstaller in d:\\app\\anaconda3\\lib\\site-packages (4.7)\n",
      "Requirement already satisfied: setuptools in d:\\app\\anaconda3\\lib\\site-packages (from pyinstaller) (58.0.4)\n",
      "Requirement already satisfied: pefile>=2017.8.1 in d:\\app\\anaconda3\\lib\\site-packages (from pyinstaller) (2021.9.3)\n",
      "Requirement already satisfied: pywin32-ctypes>=0.2.0 in d:\\app\\anaconda3\\lib\\site-packages (from pyinstaller) (0.2.0)\n",
      "Requirement already satisfied: pyinstaller-hooks-contrib>=2020.6 in d:\\app\\anaconda3\\lib\\site-packages (from pyinstaller) (2021.5)\n",
      "Requirement already satisfied: altgraph in d:\\app\\anaconda3\\lib\\site-packages (from pyinstaller) (0.17.2)\n",
      "Requirement already satisfied: future in d:\\app\\anaconda3\\lib\\site-packages (from pefile>=2017.8.1->pyinstaller) (0.18.2)\n"
     ]
    },
    {
     "name": "stderr",
     "output_type": "stream",
     "text": [
      "WARNING: Ignoring invalid distribution -tatsmodels (d:\\app\\anaconda3\\lib\\site-packages)\n",
      "WARNING: Ignoring invalid distribution -tatsmodels (d:\\app\\anaconda3\\lib\\site-packages)\n",
      "WARNING: Ignoring invalid distribution -tatsmodels (d:\\app\\anaconda3\\lib\\site-packages)\n",
      "WARNING: Ignoring invalid distribution -tatsmodels (d:\\app\\anaconda3\\lib\\site-packages)\n",
      "WARNING: Ignoring invalid distribution -tatsmodels (d:\\app\\anaconda3\\lib\\site-packages)\n",
      "WARNING: Ignoring invalid distribution -tatsmodels (d:\\app\\anaconda3\\lib\\site-packages)\n"
     ]
    },
    {
     "name": "stdout",
     "output_type": "stream",
     "text": [
      "^C\n"
     ]
    }
   ],
   "source": [
    "!pip install pyinstaller\n",
    "\n"
   ]
  },
  {
   "cell_type": "code",
   "execution_count": 39,
   "metadata": {},
   "outputs": [
    {
     "name": "stderr",
     "output_type": "stream",
     "text": [
      "1865 INFO: PyInstaller: 4.7\n",
      "1865 INFO: Python: 3.9.7 (conda)\n",
      "1900 INFO: Platform: Windows-10-10.0.19043-SP0\n",
      "1900 INFO: wrote d:\\Postgraduate_Course_Information\\module6\\Python\\Python_Programming_14\\HW_Baidu_Text_transApI_GUI.spec\n",
      "1904 INFO: UPX is not available.\n",
      "1913 INFO: Extending PYTHONPATH with paths\n",
      "['d:\\\\Postgraduate_Course_Information\\\\module6\\\\Python\\\\Python_Programming_14']\n",
      "2698 INFO: checking Analysis\n",
      "2721 INFO: checking PYZ\n",
      "2736 INFO: checking PKG\n",
      "2747 INFO: Bootloader D:\\APP\\Anaconda3\\lib\\site-packages\\PyInstaller\\bootloader\\Windows-64bit\\runw.exe\n",
      "2747 INFO: checking EXE\n",
      "2747 INFO: Building EXE because EXE-00.toc is non existent\n",
      "2747 INFO: Building EXE from EXE-00.toc\n",
      "2747 INFO: Copying bootloader EXE to d:\\Postgraduate_Course_Information\\module6\\Python\\Python_Programming_14\\dist\\HW_Baidu_Text_transApI_GUI.exe\n",
      "2760 INFO: Copying icon to EXE\n",
      "2760 INFO: Copying icons from ['imgs\\\\Computer.ico']\n",
      "2840 INFO: Writing RT_GROUP_ICON 0 resource with 90 bytes\n",
      "2840 INFO: Writing RT_ICON 1 resource with 964 bytes\n",
      "2840 INFO: Writing RT_ICON 2 resource with 1592 bytes\n",
      "2840 INFO: Writing RT_ICON 3 resource with 2293 bytes\n",
      "2840 INFO: Writing RT_ICON 4 resource with 4018 bytes\n",
      "2840 INFO: Writing RT_ICON 5 resource with 6130 bytes\n",
      "2840 INFO: Writing RT_ICON 6 resource with 12695 bytes\n",
      "2842 INFO: Copying 0 resources to EXE\n",
      "2842 INFO: Emedding manifest in EXE\n",
      "2843 INFO: Updating manifest in d:\\Postgraduate_Course_Information\\module6\\Python\\Python_Programming_14\\dist\\HW_Baidu_Text_transApI_GUI.exe\n",
      "2927 INFO: Updating resource type 24 name 1 language 0\n",
      "2930 INFO: Appending PKG archive to EXE\n",
      "5585 INFO: Building EXE from EXE-00.toc completed successfully.\n"
     ]
    }
   ],
   "source": [
    "!pyinstaller -F -w -i ./imgs/Computer.ico HW_Baidu_Text_transApI_GUI.py"
   ]
  },
  {
   "cell_type": "code",
   "execution_count": 40,
   "metadata": {},
   "outputs": [
    {
     "data": {
      "image/png": "[encoded data removed]",
      "text/plain": [
       "<PIL.Image.Image image mode=RGB size=600x300 at 0x2809546D070>"
      ]
     },
     "metadata": {},
     "output_type": "display_data"
    }
   ],
   "source": [
    "from PIL import Image\n",
    "path = \"imgs/pyinstaller_F_w_i.png\"\n",
    "Img = Image.open(path)\n",
    "Img = Img.resize((600, 300))\n",
    "display(Img)"
   ]
  }
 ],
 "metadata": {
  "interpreter": {
   "hash": "a1fd8df5d449c77885c36ee13fb077ca8b1254551d08c28de248d875df95e9cb"
  },
  "kernelspec": {
   "display_name": "Python 3.9.7 64-bit ('base': conda)",
   "language": "python",
   "name": "python3"
  },
  "language_info": {
   "codemirror_mode": {
    "name": "ipython",
    "version": 3
   },
   "file_extension": ".py",
   "mimetype": "text/x-python",
   "name": "python",
   "nbconvert_exporter": "python",
   "pygments_lexer": "ipython3",
   "version": "3.9.7"
  },
  "orig_nbformat": 4
 },
 "nbformat": 4,
 "nbformat_minor": 2
}
